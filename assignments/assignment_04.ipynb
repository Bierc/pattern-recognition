{
 "cells": [
  {
   "cell_type": "markdown",
   "id": "2dd6eb11",
   "metadata": {},
   "source": [
    "## Dimensionality Reduction Assignment"
   ]
  },
  {
   "cell_type": "markdown",
   "id": "ab04fef8",
   "metadata": {},
   "source": [
    "- Generate a data set of 900 3-dimensional data vectors, which stem from two classes—the first 100 vectors from a zero-mean Gaussian distribution with covariance matrix:\n",
    "    - S1 = [0.5 0 0; 0 0.5 0; 0 0 0.01]. \n",
    "- The rest are grouped into 8 groups of 100 vectors.\n",
    "- Each group stems from a Gaussian distribution.\n",
    "- All of these distributions share the covariance matrix: \n",
    "    - S2 = [1 0 0; 0 1 0; 0 0 0.01], while their means are:\n",
    "\n",
    "    ![means](images/image1.png \"means\")"
   ]
  },
  {
   "cell_type": "code",
   "execution_count": 21,
   "id": "fc505373",
   "metadata": {},
   "outputs": [],
   "source": [
    "## sklearn.datasets.make_blobs: Generate isotropic Gaussian blobs for clustering.\n",
    "# https://scikit-learn.org/stable/modules/generated/sklearn.datasets.make_blobs.html\n",
    "\n",
    "from sklearn.datasets import make_blobs\n",
    "import plotly.express as px\n",
    "import plotly.graph_objects as go\n",
    "import pandas as pd\n",
    "import numpy as np \n",
    "from sklearn.discriminant_analysis import LinearDiscriminantAnalysis as LDA"
   ]
  },
  {
   "cell_type": "code",
   "execution_count": 2,
   "id": "904c03d5",
   "metadata": {},
   "outputs": [],
   "source": [
    "# S1 = [[0.5, 0, 0], [0, 0.5, 0], [0, 0, 0.01]]\n",
    "# S2 = [[1, 0, 0], [0, 1, 0], [0, 0, 0.01]]\n",
    "\n",
    "# smarter :)\n",
    "S1 = np.diag([0.5, 0.5, 0.01])\n",
    "S2 = np.diag([1, 1, 0.01]) "
   ]
  },
  {
   "cell_type": "code",
   "execution_count": 3,
   "id": "dfb15adc",
   "metadata": {},
   "outputs": [],
   "source": [
    "# Numpy module have a lot of useful functions for generating random numbers, including Gaussian distributions.\n",
    "# https://numpy.org/doc/stable/reference/random/index.html\n",
    "\n",
    "rng = np.random.default_rng(42)\n",
    "a = 20.0\n",
    "\n",
    "mean_c1 = np.array([0.0, 0.0, 0.0])\n",
    "means_c2 = np.array([\n",
    "    [ a,    0,   0],\n",
    "    [ a/2,  a/2, 0],\n",
    "    [ 0,    a,   0],\n",
    "    [-a/2,  a/2, 0],\n",
    "    [-a,    0,   0],\n",
    "    [-a/2, -a/2, 0],\n",
    "    [ 0,   -a,   0],\n",
    "    [ a/2, -a/2, 0]\n",
    "], dtype=float)"
   ]
  },
  {
   "cell_type": "code",
   "execution_count": 7,
   "id": "f38561b0",
   "metadata": {},
   "outputs": [
    {
     "name": "stdout",
     "output_type": "stream",
     "text": [
      "X.shape: (900, 3), y.shape: (900,)\n"
     ]
    }
   ],
   "source": [
    "# 100 samples from a zero-mean Gaussian distribution with covariance matrix S1\n",
    "X1 = rng.multivariate_normal(mean_c1, S1, 100)\n",
    "\n",
    "# 800 samples from 8 groups of 100 vectors, each group from a Gaussian distribution with covariance matrix S2 and means from means_c2\n",
    "groups = []\n",
    "for mean in means_c2:\n",
    "    group = rng.multivariate_normal(mean, S2, 100)\n",
    "    groups.append(group)\n",
    "X2 = np.vstack(groups)\n",
    "\n",
    "# Final set\n",
    "X = np.vstack((X1, X2))\n",
    "y = np.array([0] * 100 + [1] * 800)\n",
    "\n",
    "print(f\"X.shape: {X.shape}, y.shape: {y.shape}\")"
   ]
  },
  {
   "cell_type": "code",
   "execution_count": 11,
   "id": "b1085f64",
   "metadata": {},
   "outputs": [],
   "source": [
    "# to pandas DataFrame to use plotly express\n",
    "df = pd.DataFrame(X, columns=['X1', 'X2', 'X3'])\n",
    "df['y'] = y"
   ]
  },
  {
   "cell_type": "code",
   "execution_count": 27,
   "id": "54ad830f",
   "metadata": {},
   "outputs": [
    {
     "data": {
      "application/vnd.plotly.v1+json": {
       "config": {
        "plotlyServerURL": "https://plot.ly"
       },
       "data": [
        {
         "hovertemplate": "X1=%{x}<br>X2=%{y}<br>X3=%{z}<br>y=%{marker.color}<extra></extra>",
         "legendgroup": "",
         "marker": {
          "color": {
           "bdata": "AAAAAAAAAAAAAAAAAAAAAAAAAAAAAAAAAAAAAAAAAAAAAAAAAAAAAAAAAAAAAAAAAAAAAAAAAAAAAAAAAAAAAAAAAAAAAAAAAAAAAAAAAAAAAAAAAAAAAAAAAAAAAAAAAAAAAAEBAQEBAQEBAQEBAQEBAQEBAQEBAQEBAQEBAQEBAQEBAQEBAQEBAQEBAQEBAQEBAQEBAQEBAQEBAQEBAQEBAQEBAQEBAQEBAQEBAQEBAQEBAQEBAQEBAQEBAQEBAQEBAQEBAQEBAQEBAQEBAQEBAQEBAQEBAQEBAQEBAQEBAQEBAQEBAQEBAQEBAQEBAQEBAQEBAQEBAQEBAQEBAQEBAQEBAQEBAQEBAQEBAQEBAQEBAQEBAQEBAQEBAQEBAQEBAQEBAQEBAQEBAQEBAQEBAQEBAQEBAQEBAQEBAQEBAQEBAQEBAQEBAQEBAQEBAQEBAQEBAQEBAQEBAQEBAQEBAQEBAQEBAQEBAQEBAQEBAQEBAQEBAQEBAQEBAQEBAQEBAQEBAQEBAQEBAQEBAQEBAQEBAQEBAQEBAQEBAQEBAQEBAQEBAQEBAQEBAQEBAQEBAQEBAQEBAQEBAQEBAQEBAQEBAQEBAQEBAQEBAQEBAQEBAQEBAQEBAQEBAQEBAQEBAQEBAQEBAQEBAQEBAQEBAQEBAQEBAQEBAQEBAQEBAQEBAQEBAQEBAQEBAQEBAQEBAQEBAQEBAQEBAQEBAQEBAQEBAQEBAQEBAQEBAQEBAQEBAQEBAQEBAQEBAQEBAQEBAQEBAQEBAQEBAQEBAQEBAQEBAQEBAQEBAQEBAQEBAQEBAQEBAQEBAQEBAQEBAQEBAQEBAQEBAQEBAQEBAQEBAQEBAQEBAQEBAQEBAQEBAQEBAQEBAQEBAQEBAQEBAQEBAQEBAQEBAQEBAQEBAQEBAQEBAQEBAQEBAQEBAQEBAQEBAQEBAQEBAQEBAQEBAQEBAQEBAQEBAQEBAQEBAQEBAQEBAQEBAQEBAQEBAQEBAQEBAQEBAQEBAQEBAQEBAQEBAQEBAQEBAQEBAQEBAQEBAQEBAQEBAQEBAQEBAQEBAQEBAQEBAQEBAQEBAQEBAQEBAQEBAQEBAQEBAQEBAQEBAQEBAQEBAQEBAQEBAQEBAQEBAQEBAQEBAQEBAQEBAQEBAQEBAQEBAQEBAQEBAQEBAQEBAQEBAQEBAQEBAQEBAQEB",
           "dtype": "i1"
          },
          "coloraxis": "coloraxis",
          "symbol": "circle"
         },
         "mode": "markers",
         "name": "",
         "scene": "scene",
         "showlegend": false,
         "type": "scatter3d",
         "x": {
          "bdata": "155Tf3XAvL99Zg56ccKhv/e+mnNpNec/At6QN4v+s79WEYvhR9Tiv2HELvXUh9g/lQwlffwW4T8rQoVmNxrYvxYb+7H1OvG/EjWbryt24z9TJ8+PFwPDvxKKal9mLd0/PUXjfwiZ3j9zZqCylMHZPx/tghFbLOY/Jsxjev45nL/pNPhfcLXcPzrJisnNpeC/q7qnFXEM57+poNR1bpyZP50gCw1+7fE/NdQgI2K9+D8c8h0uOqnpv1ZZGBERF9+/kQU3ODqCsr9di33X9N/ev6lRWejZxvQ/Eg8O+7rs0j9eM1uMvnTrv5VZUPQz590/JVkRr5ZP8z+FEJFylwbpP9XAgSFXQu2/Tah/N1+o0D/t9nPAo4riv34KTSa3bOm/xi+f8oO27D/BTpjFJ8jaP2aJu5vZetI/PqClOALv4j930/2N1gTcv5d+MEksgOQ/+XCXmd6v7r8Ar9BcM3fUP/CGFjhfXKw/RnXcOWFK07+cOyl9E/TBP80eBvUjDdI/KxahvUah0r9Q7ZprNZ7tP/L06tl1Mb6/pwliuv9Nwr+B8z+A+sLgv64Rx9IXlfG/juUi7sKGtz8SlKAtuELuP94FXWXvKt4/tY9LJTYn/z9WwiFmAcvLv4yniiQdHOA/GFrvFHZmw79z6AsunGTgP8KuxLX1P+E/6B3r++9fwb9KrwxthSrAPwJPhMOHYKq/oMHWn0vm0795TLdH+KHZP2CyBIWzftc/bmlxhu/z1r/f3vkpUCe2PyMODMYsetu/jMQk5iKK+792/JPd94nfP40oV7nQiN4/9z/kh7nNw7+y3mJaE4/jPzgFNqfKUfk/9Zd0PBqcrr84VAipd5Pxv4AzedYisZa/GVI93Zma9L9/ogXsAfbJP++7uvzMksU/7ddcCcGu7L9mneU0i7b4v0lDoDsFybA/2PM2RUjE4z+OooMdBXmCv6As+0hijMo/ZeUOsFpX1b9fPXLdLXK+v8kw5mhESdW/VaEMqqAs9r83LmnsUsPhv+T185wms8A/qgBxPEgL7j/9RQcVHW7Evw2FV1V9dtG/qjqxBRzh6b9fS2iLuig1QF/yusz3LTRAGLxRlitWMkC258O5Hco0QLQ95PfPFTNAUVNK1LnvNECh7cOuXWw0QN8USWCAOzRA2RdgDPuHNEDmn4ZyMbk1QMQtjnbmNjRA3/mCsTRPNEAqGTiZB+QyQCbu1YhUAzNAY5IX7IRDNEAD/+RSUWU1QBAUucKCAjZAUxXDfWr4MkDqQVWTelQ0QNedIL9G4jJA2M2NiGYlNEDrOk4WB7c0QGiyVKDs1DJAe0fYjrlnNEDZGEBemoA1QKyt9u8ENDRAuHASCZwHNEAZ+VSCujE0QKy6env6RjVAOc+MbLBUM0AN9oD20g02QOHWPpRDljNAXLoUvzkCNkDu6tyg/wg0QC7gsOREjTJAwnzC/j+1M0A2XapZe64zQMheLgbWrTNASk13cdsYMkBEsp7Kmxg0QJfoDPICFTNAysH8AxONNUCSf9EAtXk2QJ1994h0pTRAsZ/gjJ8xNECAbUQzVVM0QKweTpLNTTRAb4BRE0+9M0D1QbmDqDozQDyhx5OkGDRA/4HFqwU/NEB2zD1Pl1s1QI91D5ZC6jRAb83GWnECNUAqeRynXTY0QChQ60rJHzRA0IPQ7rVIM0Bu4S/MSAgyQJLrLe9EazRAS6SM2LejNUA90VeSZEw0QOfQEKLz4jNAjCIshuxIM0CREbTxPj8zQLRdcXcTzDNA4T0fe7wFNEAPICe4NLczQPadh0mocTNAaNLrebHlMkAOrlEvlqczQCyp13MkfzNAb0/1bHkYNECcC0+yhXgwQESIC6XfCTVAcdWbY/TQNEAt99w5cm0zQN6pv1yFZjVAPreIDVNAM0Cz5cojrzk0QERMiokwQDRAwoe42E27NUAVVUBo0380QJygV6phjjRA6BA9kV7mM0BY3m3lqsMyQHjYec7d3jJALXyOSTuvNEBLfXW9KDA0QNFHBArrZDFATg8dUeyWM0A9PR6EtxQ0QH+CmMel4TNAdUgeWmqsM0DUxvCIIic0QKCsGmhG+TNA002OqJWwMkAERx2llZc0QGSkbBDG1jNAHK91oy2kNEAPlr/Y2DM1QDLR3JWIkiFA/DaACLTLIkCqW1C6SSUlQO5eH1ooTyFAsIqR2o0uJECf8lblXtQiQDDzTo6tHCRANFwYDEnGJEDtShw7lGclQOYFefIOoyRAlLYngUD0I0Cg0q9kfn8jQB0MzXy6+iZAoZALLEfdJEDt1jAIlWUhQE5qYWfp0CZAHt5G0jI9H0Ags40P5PAnQF2HSztKCiNApd+Mbd9OI0AThc9aUxckQGY6F5o30CZADZHH6mRDJEAXnfTPZB0jQJDL/M3JASFANCjDqWY8JUBpL1wY7UUkQDVKRSkNUSRAhnU0HqfZJEBeQMkiEUYhQHiNZmAuCidA40q6YgpVJEB54wY861AmQAjuApbEiCVAArQJGilMI0DhazoyT4AiQH0x+4Aj+SRAOqDi3hzYJEArXzuYFBojQANxzK3BpyNALfRj0AnXJEBoegzt3oUlQHXxOyYmZiVAJqnpSOGmIED+HwVazNwmQPYDXrtGRCRAODhYpjcNJUBM9qj9fNkiQDvD7d+fNCZAX1of4x3IJEA2IRGnB+0kQAxLvusc3idAEhnuHZbiJUAdsQM9Ug4nQLB2LgBdtSFA1i10lW7LJkCzsDzIX/kiQGxxgt4EPyBArfUxRPDuIUB4gIXDLBEjQHW1vitn2yNAkS+2no/8JEAnH4cABeciQIfWeOi2pCNAxAMi0S5sJUCG08Dps8clQLjYcxNQRiJAatflE6AlIUDOQvjODGEkQNYZiaQ7ACNAMOipS9HnIEBsBgRxpx8mQJzKefhYEyVA0bhMcjkhJUBzMpsrx58kQBgso/pK/yNA2vdxnJaeIkDe8MHPVQMiQE5T/qjKGyZAJgPpNOeyJkC46HvEBdsjQOI0xu0iQiJANam03o5DI0AWDs8Zu5gmQJT3pDOpuSVABasTumC7H0DAAN+c/G0hQGENgYmU1SNAkreN2ygCJkATPFe7DrgkQMvp7zyqViFAXXMLf4rDIUB5jc8uMWokQEW1rP4j7CRAg5sj+w1qJEA6rfmLhbAiQPzywH1NziFAVROmBXEaI0BIqqgJ6solQGO8UT7e3yZAMGRKOPTj8b+7Nyrea/3yP+epCBV7UeS/sfagzLbg+D9FLqEtbvjkP0xhv94P5tm/d7j+Frpc4r+BMT0Vhw0BQGVy6+z7I/G/4yE9NBtP2T9EbuT8M0IDQDFvIFEIdeg/qHyg/a3s9T+I7G5J7fbhPyt264PEZuC//rKXCztU6z/mXkGuuobnv9X20e2GFu6/oNS+QIyk3b9dv7/SCJO+v86lIhT0cPQ/5THl7pBI5b8V7mmoyDT4PwTF7borV+o/7McTfPX08D/c65ykqi/xvyoHxvHV2eW/P15GkGEe0r+mJN2gjgbWP6I9fQoaRfu/EizWvGCDxz94IhmDCZLhv2YbmBJaNvE/vnIrkp1I9z//3L8JVlfEP/rbgaKqfeA/cgX68UcZvr9IA83IiI7eP5dw81gh8Ou/9UbS5cH0sb/YZWa8JYr/v7DrjHc1evC/npEVM0DMoL9SDMApla23P58MrzbwYeQ/KJOgN1Oy2L/xNKxmkKH9v+ii8qW/rPy/8molC7QR4z/jR4C6+rq0PzeyncymDse/lZCr43oi3j/AG/u1NN76P4ywOOIgfee/p4eq1VnB0r+zL4ynnRLsv9PeVPy+ie0/9DaBhQoNyj9a6ReMsejNP1seDJeoX9e/ZqgU+6oI3b+B7a+m1r7ovxATX8fk7+O/pdx2+khp4b/+J6YYmGOEP7BLIv8GRva/ln+0FWDu8L8G3r2q08vTv61PbxJwTtK/TburkisbCsAZxvqkiyflv/iih762l/a/BbimNDue9D+vYsFZETPav5w1zYnnce2/P9fcxddw87/9GWFu0ePavyCTbIzqlv8/I+7ppxtMej+qXngdcx7Fv9sxMTJEo+M/EuOEhMe6l79PCprOimDEv5kg8USXhPM/dx11m+mL5T+/eSjQLTOwvzGeqmeYEee/K5Aqhw6p9j8FBur2nZv4v5SMt2e+JvK/HmczHyEPyb/12G5UQE/Uv/M+rEVk3u6/hfrec6lO9L/CZnwpVnH8v6p52JSKcqa/whqIWRbMZ7/jvhRxsOz6v91p3J2nXtY/wOj2jo5w7b/eH9zR1uIlwN5HOOkbQiXA2yLYM7BOJMApuO9YuNkjwGAljQI9eyTAltcc3/EPJcDM22XzIMsowHJ+aViw1CbAeh8mSimlIMBNauNdfLknwIUcn3sioiXAtEV/K+tCIsCT/gEIGcIlwKPyssYPPCbALDQMcThSJcBzRAzeIYklwBOjUgb6OCXAG8qV2/LDJMDr3i2HoN8kwBLI77qsOSPAhArXPy8jJcBo2y2gKSMowLsjCXm8UyHAcUXHUE6EIsAGc0n6ZKMjwP3FI56GWiXAJp6452B/I8DS1yp0CnQjwO+h+x8OkCLAD/hGCZg6I8BF12jz7kgdwC2PiQGwuSXAUej+oLvsJcBhSctrxrElwGqUAKYlsSLA18HnhD11JMAg9zFnQg8nwK8jSuU3LCXA5kZWJdYAJsATgtxbUpQiwKEhNtPSpiTAHAk/Si5WJsDN2wnNegQkwAhdlxS1vyXAme985zr1JcBzETIvosklwLROC8D7kSPATvRPFRFJJsA1X8MHWvAiwIJMGW+MpiXAPV6R8jeTJMCH4fXKi2EhwHIyalruzSLAArXuSgIxI8AUUYDM+4QgwDMVRo1PXyTATMsKnDZNJ8AvhENkpKkjwAP0IuNEiSTALUeZJjO0HcCGgp0sLzklwOPe/U2Q1iTA0eQRyrHqJcCkeClAvooiwN+MCbvvxyPAFFsMfFd/JMCEwZIWEx8mwO46vs5IcSbArh817hYiIsCCSDV9tBAkwF1fjdxaHSbArnAF7znpJMDTVkASSMwjwGLk5vOCJiXADw8ljsW4IsCbZclNbygkwIsdJH8BuCbAD7JkOjIOJsAKFmQX3scgwMx3lAY7lx7AYX4BrFBBJcD7CkmUvR0lwMTazH01SyfAeKaxNkTNIsAhT/S6bO4kwB5kgYJLXSXAZgRAbEk+KcBJ+So0IXUhwLwpFYklhCTAeL009p66IsDYjUiADO8nwCV/uwObFiLAxGexTczqIMD7nkgwohYmwHLZyGBtAifAEZmAHjbbIcCbx2yeQfsiwNA5n5UXDSPAG6lxrWIqJMDQOwSOrPEkwN3wcXvWVzPA4zKvfU4LM8CgW729BAQzwCLWaxO6UzXAr44qyBRuMsC+M+I/UWEzwEdA5JUgsTPAapl/bAvyM8AxtEuEohAzwPfDPKEpzDLAIGyYgatQMsCUWGY3eHgzwCsh3sjmgzTASN4ZbRX9M8Bzb5agtH4zwDE/2LOlSTXA6b0h59dzM8DRnirIGkMzwJANRPSaVTbAAgz8cFhWNMC3ZswIRt4zwPEIB2YPjDTAdgTHw/oLM8DWpcQvASE1wBoj9zPoGTHAu9w5LFOTM8ClvfQyYKEywMmVoT/p+TPAXM15/Pu0NcCv0A0gFU00wDfsIico9TLAS/9K35aWNMDC8WwSDwszwICl8I3jhzTALR9eXk8INMDZdXEn4KQzwLsSjjjHVTTA7rDBtDM8NcClr/dLHSkzwKNb3ytOijPAp8Le72HSNMCe5dZ5fok0wJiKCSf6xDLAjnR+aH/WNMDrLDEGWfUzwHczkJqWLDHAhIa9Q+0HM8AjAWGKgDM1wF4VFdspGTPAzBxT0NEANMB6iwhVHXsywHGyewS6OjXAfehKazBDMsBZbFj9zfcywErF/XjY5TLA0FgbXjFLNMCt5WLPIeI1wAEvghpweTTAhsiaShLCM8D6fRq3JKQ1wCNuIQoUNjTAcxydT0MdMsCb36IUgs0zwJ+BOOrXjjPASjP+2G7JNcAC6gGVkWszwGrR4lTfPjXAPa3f4PacM8AfzOpXEHg1wHc00WzKxTPA7tbRV1qANcAJaKpJkHAzwKoF65YMAzTAhc21D6lwNMClu68WPOkzwIFibg+GWDXAQyRn70VjNMDmC6hYHXM0wL+6vFOrZjXA2Cs1vxntM8CaoKafjkA0wDiqKl0msjTAzBL+MhswNMDJdUJ3u6YzwOHPYFq8bzPA/TZV4XCnNcBVGHvxIMkzwNAlETs+6zPA8V5xUfThM8Bs/ew3x5YzwF0Jf33OxDPAMErtXaosM8CpT+UoehA2wOrRbN8z8THAu6R9ZL04NMCD01VOj5I0wNA3hhjAvzTAXkviQwCgNMBuQRRL3gkywMzRD+L4eDLA4F/DXd9/I8AQu0gJrDEkwN0j4eqfiCHAk6MYZmTGJMDzUW0YBx0jwCrT8V++SifAn9NCuMhSIMBHHU03VuElwIxJcP64eyLA8i0avsH/I8C4J6xd4bUiwMb+WC2fhyPAoS6xzEJtIsAIf8vZsdwiwJZkcXpjCybAsFuyB+9DKMBx+OY5EOckwGpix6G1aCLAog4Wq2+IIMBX+JkJjZAlwIgPHZr9jCTAisdy0bEsJMBrWsiCPYMkwJa/kGX+eiHAU3sVbJJHKMA1P1RRa0IkwKYobu8bFCbAhXZz9nbwJcAFfl5U4CsiwOFGN3BPjSLAGmc3yaWsJ8ATed23EkElwF355UVa1CPA8wUxBL+lI8B5IMqZEpIkwNqfYZ+5ECHA1d0dput1IsCpmlSB/zIjwI0ivAfoaSXAJIFmTvhUJsBDjaFDASojwAZ8afy7gCHASN8zx9guJ8Ay2HQP2lsjwEDZqkouph/AHK8RFeIZJsBB5nSvC9AjwLryqkbL/SLAz/4uidlDJ8DtwJXBj4IlwFk6f4/EYSTAZkxF8x/+IcASiXFcvX4mwLiqQF0TUCPAPkBIFvQoI8AGQpLNIIMlwPHtBEu3kR7AsD+GnERII8Bz69t3mAUpwMBJeX3gNiPA5pSaFUhwJMA3XXRXGSElwEzJIgbiIyTAU+aHdhmOJsAVu8OqpQElwKw9TpcY4CHAGJB8qgQhJcD040NsAGwkwOZzxvmDzyfAfcG14zjDJMDupiuv7ycmwLZRlqRfvSXAIvtOdeL5JMA+tQweIAUmwAQUymZdZiLA4zQEIt8uJcDQw++SKT0hwKIbN84maSLAhUMXCnEgI8BlN24/wMIjwKzyrD36VSLA6sVSaNPII8Dy3MmL/YYdwK8Xd8I0aSXAO4LikB13IsABS4ut5XQhwHYDi8r6NSLAyxy7LkobJMBUD48MA+0lwKNhBJni6yPABxxWg4ceJMDy1L4MSdYhwHG1cZcT8CTArVI/3eP/JMAYyB7a61UjwNZ9I3pXOiLAcKaab6sEJMAUt7CJUdMkwHCq4wPL8SLAdspW4AEcJMBisLPOtpbwP/vq3hjmPvw/g0QOLidB+j/NxULHmKbzv1iIlHxGONc/8na85nW+lD841lVc8qjEP9kVzepYKu6/qbHr80DS2z/4HXcnASz6v4FJApckULQ/zcMhGx4T0T8ZHgKpK1DzPwoQPY1bmt2/bwDgg/lIqr+wLtHtbkWfP12UOPYdf+U/eNdzVpyU/T8pm1c4pl7YP2xC3nNbq+k/jJAVc4kj4j849E+r9G3bPzn+vL94Rdw/4HWbR63d37/ZpECkeBjyP1zQZW4nifw/N1yLo0+28D+Hro9ax9biv8TWkLP4d8Q/eUmSqW/K078uGNk/7UDqP7SVqT8lbcY/D6qB4bYo8r8MIMQGzTDlPwtBaEpzHeO/RVXFEEjm4L9zJTA9JfDeP1jtAVvdm9C/AYK+LeDu6r+sq7ckoG7lP33+fWOISta/BzdS4dVY8T84UbdEaejWvxpoBamamOo/rezmpSjO6j8TERecOajmv6lBFrERAva//OS2c1J5+T/QFNOZN2bmv2S7grM+VPw/UPgu3Q9C/b99zPcFLEfkv9C2XuxxeLe/jGWVw6ZP/r/xSMbu/6bCP5QLENGTSKY/KUd30slukL8JJciSk+31v4lp0iW1QeQ/1L2VcPco7T+a1F0/Z+Lhv3BZZdoQ4dy/WCExVtL5sz9/fz4VhCTtP4Si9jOia+a/mZb8sMRn3T9vwhuP3mzpP+w8eF6oSNG/6bpcWPH5178JrKsli3jwP2MwGeKhHcE/hxeeQInvwL/LDl238ePUvxM9WLgTGuM/hMRZAi1z8D9TZV0PoYLov33h1XovFfM/DCBi2Q5U8D8cb4re53nlvxV91qEys+6/6q2CbrFx+z/Z7bgah1Ppv+7I/hrnK+e/p4zLkM81k79bCUCPu9vNv34Uk3d2me0/guQ5hpdh9T/H4IgeLaXwP0G1Hsm52NM/WTkne4Zeub9xRzDFeK3gP8Xrh+v5n92/dOOc91SU+j9GXxleArPRPzJBzwOmNem/DnOfoo0svT81ChzsUEvav0f/5p7yg/K/TzWBZhjw379TLHR9aeQAQGjOKFdKfiNApMjKVrJVJUChVjLKey8mQFEAinZZ6CJABMyFjmVeIkCb9EoZxCMkQMC7xYyRFyZAHCan4La9JEDcWb6/GFclQJE6eAFaMyRAdb/DiYYvI0Bd5e7tA0UkQIP6Bzd9riNA2+TGLT99JEA0j49lMAglQM+e53V0DyZAqXG1u2ppIUCFahnkF40kQB7k6DuJJiJA6gwOOoNfJEAFSzaYzwQmQM8oOiwJrR5AlqIdPi58J0AZIpUpJh0mQLFjD5GDSCRAGMuzjl6NJkCeVuCe5DkkQDfzU68d4yJAwaoag8FaJUCEvB1jx1gjQOlDHGtI/SRAYCwzaNylIkDSiOgsgrEjQFbUgEYMLyZAMiWymuZFI0AHS++NPfIlQM9iE+GrxyNACEp2wPGtJkCfUsBupVslQO0gRv4SGCdAC4XOcU+/I0Be1jO7XREhQMNBncPusSNAYFwpTu7zJEAd3m29mUAqQPxckFSm+yFAfMUK3JvQJkA2uSzzqE0iQB+4kRXQwyZAZWJFSc4gJECW2niTpaklQOYy2ddxqSVA7i6sXCzbJ0Bg9mU+FHskQGM4csHXNx5APKfSRaRrIkDM3maeQjUmQMQ22IksciFAnqeFTisRIEDtckrQIO0lQAnOJ6/3+CdAYJu5dcHrIkDjMPXhaxMjQCzX7ps9gCZAxZZg+9YIJ0AQJKt/6g8lQARchl0MridAQJOY59P2IUBZLL1+Ce0iQOhQwVeAGCVAoexNMwz0IkDHM7TwRCwlQK03h+jJ6iRA2Q0ij0CVJUC4MxuvyhEiQPxv0mkBYSRAM/btVZW9IUAVZ8gXh7wjQB0GmkAlCyJAkWP4LTNgIUDpmGqnlKIjQDe+9leEUyNA/30GFp5PIUBszBa+/VIjQPzcin2agCFAJD5CWu5cJUCAtNWl7yYkQMaX3zLiuCRAhBWbfBUHI0C1J5YRblYlQIBQ5Wl3YCVAM5LJK/JTJED33mLSV1QhQJwnk/e+lSFAxZONYpK9IEBPsHyhDTMjQGdpyWcMLiRAA6MXnOkkJECiEFH6TIchQCsZeZNh7iFA",
          "dtype": "f8"
         },
         "y": {
          "bdata": "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",
          "dtype": "f8"
         },
         "z": {
          "bdata": "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",
          "dtype": "f8"
         }
        }
       ],
       "layout": {
        "coloraxis": {
         "colorbar": {
          "title": {
           "text": "y"
          }
         },
         "colorscale": [
          [
           0,
           "#0d0887"
          ],
          [
           0.1111111111111111,
           "#46039f"
          ],
          [
           0.2222222222222222,
           "#7201a8"
          ],
          [
           0.3333333333333333,
           "#9c179e"
          ],
          [
           0.4444444444444444,
           "#bd3786"
          ],
          [
           0.5555555555555556,
           "#d8576b"
          ],
          [
           0.6666666666666666,
           "#ed7953"
          ],
          [
           0.7777777777777778,
           "#fb9f3a"
          ],
          [
           0.8888888888888888,
           "#fdca26"
          ],
          [
           1,
           "#f0f921"
          ]
         ]
        },
        "legend": {
         "tracegroupgap": 0
        },
        "scene": {
         "domain": {
          "x": [
           0,
           1
          ],
          "y": [
           0,
           1
          ]
         },
         "xaxis": {
          "title": {
           "text": "X1"
          }
         },
         "yaxis": {
          "title": {
           "text": "X2"
          }
         },
         "zaxis": {
          "title": {
           "text": "X3"
          }
         }
        },
        "template": {
         "data": {
          "bar": [
           {
            "error_x": {
             "color": "#2a3f5f"
            },
            "error_y": {
             "color": "#2a3f5f"
            },
            "marker": {
             "line": {
              "color": "#E5ECF6",
              "width": 0.5
             },
             "pattern": {
              "fillmode": "overlay",
              "size": 10,
              "solidity": 0.2
             }
            },
            "type": "bar"
           }
          ],
          "barpolar": [
           {
            "marker": {
             "line": {
              "color": "#E5ECF6",
              "width": 0.5
             },
             "pattern": {
              "fillmode": "overlay",
              "size": 10,
              "solidity": 0.2
             }
            },
            "type": "barpolar"
           }
          ],
          "carpet": [
           {
            "aaxis": {
             "endlinecolor": "#2a3f5f",
             "gridcolor": "white",
             "linecolor": "white",
             "minorgridcolor": "white",
             "startlinecolor": "#2a3f5f"
            },
            "baxis": {
             "endlinecolor": "#2a3f5f",
             "gridcolor": "white",
             "linecolor": "white",
             "minorgridcolor": "white",
             "startlinecolor": "#2a3f5f"
            },
            "type": "carpet"
           }
          ],
          "choropleth": [
           {
            "colorbar": {
             "outlinewidth": 0,
             "ticks": ""
            },
            "type": "choropleth"
           }
          ],
          "contour": [
           {
            "colorbar": {
             "outlinewidth": 0,
             "ticks": ""
            },
            "colorscale": [
             [
              0,
              "#0d0887"
             ],
             [
              0.1111111111111111,
              "#46039f"
             ],
             [
              0.2222222222222222,
              "#7201a8"
             ],
             [
              0.3333333333333333,
              "#9c179e"
             ],
             [
              0.4444444444444444,
              "#bd3786"
             ],
             [
              0.5555555555555556,
              "#d8576b"
             ],
             [
              0.6666666666666666,
              "#ed7953"
             ],
             [
              0.7777777777777778,
              "#fb9f3a"
             ],
             [
              0.8888888888888888,
              "#fdca26"
             ],
             [
              1,
              "#f0f921"
             ]
            ],
            "type": "contour"
           }
          ],
          "contourcarpet": [
           {
            "colorbar": {
             "outlinewidth": 0,
             "ticks": ""
            },
            "type": "contourcarpet"
           }
          ],
          "heatmap": [
           {
            "colorbar": {
             "outlinewidth": 0,
             "ticks": ""
            },
            "colorscale": [
             [
              0,
              "#0d0887"
             ],
             [
              0.1111111111111111,
              "#46039f"
             ],
             [
              0.2222222222222222,
              "#7201a8"
             ],
             [
              0.3333333333333333,
              "#9c179e"
             ],
             [
              0.4444444444444444,
              "#bd3786"
             ],
             [
              0.5555555555555556,
              "#d8576b"
             ],
             [
              0.6666666666666666,
              "#ed7953"
             ],
             [
              0.7777777777777778,
              "#fb9f3a"
             ],
             [
              0.8888888888888888,
              "#fdca26"
             ],
             [
              1,
              "#f0f921"
             ]
            ],
            "type": "heatmap"
           }
          ],
          "histogram": [
           {
            "marker": {
             "pattern": {
              "fillmode": "overlay",
              "size": 10,
              "solidity": 0.2
             }
            },
            "type": "histogram"
           }
          ],
          "histogram2d": [
           {
            "colorbar": {
             "outlinewidth": 0,
             "ticks": ""
            },
            "colorscale": [
             [
              0,
              "#0d0887"
             ],
             [
              0.1111111111111111,
              "#46039f"
             ],
             [
              0.2222222222222222,
              "#7201a8"
             ],
             [
              0.3333333333333333,
              "#9c179e"
             ],
             [
              0.4444444444444444,
              "#bd3786"
             ],
             [
              0.5555555555555556,
              "#d8576b"
             ],
             [
              0.6666666666666666,
              "#ed7953"
             ],
             [
              0.7777777777777778,
              "#fb9f3a"
             ],
             [
              0.8888888888888888,
              "#fdca26"
             ],
             [
              1,
              "#f0f921"
             ]
            ],
            "type": "histogram2d"
           }
          ],
          "histogram2dcontour": [
           {
            "colorbar": {
             "outlinewidth": 0,
             "ticks": ""
            },
            "colorscale": [
             [
              0,
              "#0d0887"
             ],
             [
              0.1111111111111111,
              "#46039f"
             ],
             [
              0.2222222222222222,
              "#7201a8"
             ],
             [
              0.3333333333333333,
              "#9c179e"
             ],
             [
              0.4444444444444444,
              "#bd3786"
             ],
             [
              0.5555555555555556,
              "#d8576b"
             ],
             [
              0.6666666666666666,
              "#ed7953"
             ],
             [
              0.7777777777777778,
              "#fb9f3a"
             ],
             [
              0.8888888888888888,
              "#fdca26"
             ],
             [
              1,
              "#f0f921"
             ]
            ],
            "type": "histogram2dcontour"
           }
          ],
          "mesh3d": [
           {
            "colorbar": {
             "outlinewidth": 0,
             "ticks": ""
            },
            "type": "mesh3d"
           }
          ],
          "parcoords": [
           {
            "line": {
             "colorbar": {
              "outlinewidth": 0,
              "ticks": ""
             }
            },
            "type": "parcoords"
           }
          ],
          "pie": [
           {
            "automargin": true,
            "type": "pie"
           }
          ],
          "scatter": [
           {
            "fillpattern": {
             "fillmode": "overlay",
             "size": 10,
             "solidity": 0.2
            },
            "type": "scatter"
           }
          ],
          "scatter3d": [
           {
            "line": {
             "colorbar": {
              "outlinewidth": 0,
              "ticks": ""
             }
            },
            "marker": {
             "colorbar": {
              "outlinewidth": 0,
              "ticks": ""
             }
            },
            "type": "scatter3d"
           }
          ],
          "scattercarpet": [
           {
            "marker": {
             "colorbar": {
              "outlinewidth": 0,
              "ticks": ""
             }
            },
            "type": "scattercarpet"
           }
          ],
          "scattergeo": [
           {
            "marker": {
             "colorbar": {
              "outlinewidth": 0,
              "ticks": ""
             }
            },
            "type": "scattergeo"
           }
          ],
          "scattergl": [
           {
            "marker": {
             "colorbar": {
              "outlinewidth": 0,
              "ticks": ""
             }
            },
            "type": "scattergl"
           }
          ],
          "scattermap": [
           {
            "marker": {
             "colorbar": {
              "outlinewidth": 0,
              "ticks": ""
             }
            },
            "type": "scattermap"
           }
          ],
          "scattermapbox": [
           {
            "marker": {
             "colorbar": {
              "outlinewidth": 0,
              "ticks": ""
             }
            },
            "type": "scattermapbox"
           }
          ],
          "scatterpolar": [
           {
            "marker": {
             "colorbar": {
              "outlinewidth": 0,
              "ticks": ""
             }
            },
            "type": "scatterpolar"
           }
          ],
          "scatterpolargl": [
           {
            "marker": {
             "colorbar": {
              "outlinewidth": 0,
              "ticks": ""
             }
            },
            "type": "scatterpolargl"
           }
          ],
          "scatterternary": [
           {
            "marker": {
             "colorbar": {
              "outlinewidth": 0,
              "ticks": ""
             }
            },
            "type": "scatterternary"
           }
          ],
          "surface": [
           {
            "colorbar": {
             "outlinewidth": 0,
             "ticks": ""
            },
            "colorscale": [
             [
              0,
              "#0d0887"
             ],
             [
              0.1111111111111111,
              "#46039f"
             ],
             [
              0.2222222222222222,
              "#7201a8"
             ],
             [
              0.3333333333333333,
              "#9c179e"
             ],
             [
              0.4444444444444444,
              "#bd3786"
             ],
             [
              0.5555555555555556,
              "#d8576b"
             ],
             [
              0.6666666666666666,
              "#ed7953"
             ],
             [
              0.7777777777777778,
              "#fb9f3a"
             ],
             [
              0.8888888888888888,
              "#fdca26"
             ],
             [
              1,
              "#f0f921"
             ]
            ],
            "type": "surface"
           }
          ],
          "table": [
           {
            "cells": {
             "fill": {
              "color": "#EBF0F8"
             },
             "line": {
              "color": "white"
             }
            },
            "header": {
             "fill": {
              "color": "#C8D4E3"
             },
             "line": {
              "color": "white"
             }
            },
            "type": "table"
           }
          ]
         },
         "layout": {
          "annotationdefaults": {
           "arrowcolor": "#2a3f5f",
           "arrowhead": 0,
           "arrowwidth": 1
          },
          "autotypenumbers": "strict",
          "coloraxis": {
           "colorbar": {
            "outlinewidth": 0,
            "ticks": ""
           }
          },
          "colorscale": {
           "diverging": [
            [
             0,
             "#8e0152"
            ],
            [
             0.1,
             "#c51b7d"
            ],
            [
             0.2,
             "#de77ae"
            ],
            [
             0.3,
             "#f1b6da"
            ],
            [
             0.4,
             "#fde0ef"
            ],
            [
             0.5,
             "#f7f7f7"
            ],
            [
             0.6,
             "#e6f5d0"
            ],
            [
             0.7,
             "#b8e186"
            ],
            [
             0.8,
             "#7fbc41"
            ],
            [
             0.9,
             "#4d9221"
            ],
            [
             1,
             "#276419"
            ]
           ],
           "sequential": [
            [
             0,
             "#0d0887"
            ],
            [
             0.1111111111111111,
             "#46039f"
            ],
            [
             0.2222222222222222,
             "#7201a8"
            ],
            [
             0.3333333333333333,
             "#9c179e"
            ],
            [
             0.4444444444444444,
             "#bd3786"
            ],
            [
             0.5555555555555556,
             "#d8576b"
            ],
            [
             0.6666666666666666,
             "#ed7953"
            ],
            [
             0.7777777777777778,
             "#fb9f3a"
            ],
            [
             0.8888888888888888,
             "#fdca26"
            ],
            [
             1,
             "#f0f921"
            ]
           ],
           "sequentialminus": [
            [
             0,
             "#0d0887"
            ],
            [
             0.1111111111111111,
             "#46039f"
            ],
            [
             0.2222222222222222,
             "#7201a8"
            ],
            [
             0.3333333333333333,
             "#9c179e"
            ],
            [
             0.4444444444444444,
             "#bd3786"
            ],
            [
             0.5555555555555556,
             "#d8576b"
            ],
            [
             0.6666666666666666,
             "#ed7953"
            ],
            [
             0.7777777777777778,
             "#fb9f3a"
            ],
            [
             0.8888888888888888,
             "#fdca26"
            ],
            [
             1,
             "#f0f921"
            ]
           ]
          },
          "colorway": [
           "#636efa",
           "#EF553B",
           "#00cc96",
           "#ab63fa",
           "#FFA15A",
           "#19d3f3",
           "#FF6692",
           "#B6E880",
           "#FF97FF",
           "#FECB52"
          ],
          "font": {
           "color": "#2a3f5f"
          },
          "geo": {
           "bgcolor": "white",
           "lakecolor": "white",
           "landcolor": "#E5ECF6",
           "showlakes": true,
           "showland": true,
           "subunitcolor": "white"
          },
          "hoverlabel": {
           "align": "left"
          },
          "hovermode": "closest",
          "mapbox": {
           "style": "light"
          },
          "paper_bgcolor": "white",
          "plot_bgcolor": "#E5ECF6",
          "polar": {
           "angularaxis": {
            "gridcolor": "white",
            "linecolor": "white",
            "ticks": ""
           },
           "bgcolor": "#E5ECF6",
           "radialaxis": {
            "gridcolor": "white",
            "linecolor": "white",
            "ticks": ""
           }
          },
          "scene": {
           "xaxis": {
            "backgroundcolor": "#E5ECF6",
            "gridcolor": "white",
            "gridwidth": 2,
            "linecolor": "white",
            "showbackground": true,
            "ticks": "",
            "zerolinecolor": "white"
           },
           "yaxis": {
            "backgroundcolor": "#E5ECF6",
            "gridcolor": "white",
            "gridwidth": 2,
            "linecolor": "white",
            "showbackground": true,
            "ticks": "",
            "zerolinecolor": "white"
           },
           "zaxis": {
            "backgroundcolor": "#E5ECF6",
            "gridcolor": "white",
            "gridwidth": 2,
            "linecolor": "white",
            "showbackground": true,
            "ticks": "",
            "zerolinecolor": "white"
           }
          },
          "shapedefaults": {
           "line": {
            "color": "#2a3f5f"
           }
          },
          "ternary": {
           "aaxis": {
            "gridcolor": "white",
            "linecolor": "white",
            "ticks": ""
           },
           "baxis": {
            "gridcolor": "white",
            "linecolor": "white",
            "ticks": ""
           },
           "bgcolor": "#E5ECF6",
           "caxis": {
            "gridcolor": "white",
            "linecolor": "white",
            "ticks": ""
           }
          },
          "title": {
           "x": 0.05
          },
          "xaxis": {
           "automargin": true,
           "gridcolor": "white",
           "linecolor": "white",
           "ticks": "",
           "title": {
            "standoff": 15
           },
           "zerolinecolor": "white",
           "zerolinewidth": 2
          },
          "yaxis": {
           "automargin": true,
           "gridcolor": "white",
           "linecolor": "white",
           "ticks": "",
           "title": {
            "standoff": 15
           },
           "zerolinecolor": "white",
           "zerolinewidth": 2
          }
         }
        },
        "title": {
         "text": "3D Distribution"
        }
       }
      }
     },
     "metadata": {},
     "output_type": "display_data"
    }
   ],
   "source": [
    "# a) Plot the 3-dimensional data set and view it from different angles to get a feeling of how the data is spread in the 3-dimensional space\n",
    "\n",
    "fig = px.scatter_3d(\n",
    "    df,\n",
    "    x='X1', y='X2', z='X3',\n",
    "    color='y',\n",
    "    title='3D Distribution'\n",
    ")\n",
    "\n",
    "fig.show()"
   ]
  },
  {
   "cell_type": "code",
   "execution_count": null,
   "id": "f59942d4",
   "metadata": {},
   "outputs": [],
   "source": [
    "# b) Perform LDA on the previous dataset. Project the data on the subspace spanned by the eigenvectors that correspond to the nonzero eigenvalues of the matrix product S−1w Sb. Comment on the results.\n",
    "lda = LDA(n_components=1)\n",
    "Z = lda.fit_transform(X, y).ravel()   # 1D projection\n"
   ]
  },
  {
   "cell_type": "code",
   "execution_count": 29,
   "id": "5b061bd0",
   "metadata": {},
   "outputs": [
    {
     "data": {
      "application/vnd.plotly.v1+json": {
       "config": {
        "plotlyServerURL": "https://plot.ly"
       },
       "data": [
        {
         "bingroup": "x",
         "hovertemplate": "Class=Class 1<br>LDA_1D=%{x}<br>count=%{y}<extra></extra>",
         "legendgroup": "Class 1",
         "marker": {
          "color": "#636efa",
          "opacity": 0.5,
          "pattern": {
           "shape": ""
          }
         },
         "name": "Class 1",
         "nbinsx": 60,
         "orientation": "v",
         "showlegend": true,
         "type": "histogram",
         "x": {
          "bdata": "WviUAREk8j9GO74Dbjr6Pza8EqE9hQJAGOqUeIGm6L9FSRRB6Uzov/xnJ2/tePA/uSqbxZCM07/uDlo3eWHnPwrkeBObKfS/Dus24F7w4z/M2AYFHVrzP09NYJq8F+a/pbisaGQF4L8PjCEHD0HxvzmxXjuAQfM/2aLrwRTkxz8O2t+3L73bv7t9Wq7X5/G/UyIsoKZTwj8uhlYExUfBP46LxZgLG/E/UeBe72Ow8b/k9G/xsoD0PxpkFYXZ2eQ/nl22rOTM4L9cPtBizBS6P50EHftcMNK/EiHiSqLs4r9K/W/TdjD8v+XTSKOMLNC/vsxHLak/478lJlEms+DhP/EiE+7nye4/AL1Pby69+T/IX1sQmrP0v/5BOyPXVb+/x+XJEmR0rr8OtU2kdqjtP7jCn8WfPPA/uS94evtA4r+966cZLnnqP9FnjhAtVdc/FeVNMCGZ4z8LOJ1kXi6mP8XHPca3FLw/l3QHKJ220b+dMpMGfpnxPy2JnE1G3ve/6ZnH1aAd0b/fJJz2y/vOv069gE9OgN0/HnLk2nAOyb+ENN0zYQfOv+JRRkZKm9K/yovZFHYItr8L+ZL1xorxP3LHzBlNwOC/NQpNNucE5b9Ly3yqQY/tP3Pu244F4dy/RMLhLME/1D9F0Ta0xfbrvy39LN28duI/kwFK0qgz+b+n6tMEuKHkv0ytG9f0VMo/IrDhSjgt8r8HJPHZtyvXv2I9p7XtHvU/r/oFBQTXq7/ZwHPeZr/uv52uMP34t9+/hIZYC3QMAMCX0br3U922Pwhppf4uXt8/KIqys9bm0b+LXeDPCKLxP+rikkI0QPq/ozaEB6Tr8r/1ybw1KjH4v5jyIaW2Y/I/RU9Iq2gB77+vz5KJB3ToPwUvdCeQI9E/gyw96KRE5j/V2uojV+z8v4xZMTO+X+g/GW4YSPKX3D9Vim+IdirgP8u/uCXwwuw/O869wkbuxb9X3ksAph3uv4ejJZSNgbW/3PvRxUnLrT+hhkAg8j3FPyErlYY5O/m/vtfJPwcS0z9peOeLpTzxP/UCqn5UdOM/jJzCyPd56b8=",
          "dtype": "f8"
         },
         "xaxis": "x",
         "yaxis": "y"
        },
        {
         "bingroup": "x",
         "hovertemplate": "Class=Class 2<br>LDA_1D=%{x}<br>count=%{y}<extra></extra>",
         "legendgroup": "Class 2",
         "marker": {
          "color": "#EF553B",
          "opacity": 0.5,
          "pattern": {
           "shape": ""
          }
         },
         "name": "Class 2",
         "nbinsx": 60,
         "orientation": "v",
         "showlegend": true,
         "type": "histogram",
         "x": {
          "bdata": "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",
          "dtype": "f8"
         },
         "xaxis": "x",
         "yaxis": "y"
        }
       ],
       "layout": {
        "barmode": "overlay",
        "legend": {
         "title": {
          "text": "Class"
         },
         "tracegroupgap": 0
        },
        "template": {
         "data": {
          "bar": [
           {
            "error_x": {
             "color": "#2a3f5f"
            },
            "error_y": {
             "color": "#2a3f5f"
            },
            "marker": {
             "line": {
              "color": "#E5ECF6",
              "width": 0.5
             },
             "pattern": {
              "fillmode": "overlay",
              "size": 10,
              "solidity": 0.2
             }
            },
            "type": "bar"
           }
          ],
          "barpolar": [
           {
            "marker": {
             "line": {
              "color": "#E5ECF6",
              "width": 0.5
             },
             "pattern": {
              "fillmode": "overlay",
              "size": 10,
              "solidity": 0.2
             }
            },
            "type": "barpolar"
           }
          ],
          "carpet": [
           {
            "aaxis": {
             "endlinecolor": "#2a3f5f",
             "gridcolor": "white",
             "linecolor": "white",
             "minorgridcolor": "white",
             "startlinecolor": "#2a3f5f"
            },
            "baxis": {
             "endlinecolor": "#2a3f5f",
             "gridcolor": "white",
             "linecolor": "white",
             "minorgridcolor": "white",
             "startlinecolor": "#2a3f5f"
            },
            "type": "carpet"
           }
          ],
          "choropleth": [
           {
            "colorbar": {
             "outlinewidth": 0,
             "ticks": ""
            },
            "type": "choropleth"
           }
          ],
          "contour": [
           {
            "colorbar": {
             "outlinewidth": 0,
             "ticks": ""
            },
            "colorscale": [
             [
              0,
              "#0d0887"
             ],
             [
              0.1111111111111111,
              "#46039f"
             ],
             [
              0.2222222222222222,
              "#7201a8"
             ],
             [
              0.3333333333333333,
              "#9c179e"
             ],
             [
              0.4444444444444444,
              "#bd3786"
             ],
             [
              0.5555555555555556,
              "#d8576b"
             ],
             [
              0.6666666666666666,
              "#ed7953"
             ],
             [
              0.7777777777777778,
              "#fb9f3a"
             ],
             [
              0.8888888888888888,
              "#fdca26"
             ],
             [
              1,
              "#f0f921"
             ]
            ],
            "type": "contour"
           }
          ],
          "contourcarpet": [
           {
            "colorbar": {
             "outlinewidth": 0,
             "ticks": ""
            },
            "type": "contourcarpet"
           }
          ],
          "heatmap": [
           {
            "colorbar": {
             "outlinewidth": 0,
             "ticks": ""
            },
            "colorscale": [
             [
              0,
              "#0d0887"
             ],
             [
              0.1111111111111111,
              "#46039f"
             ],
             [
              0.2222222222222222,
              "#7201a8"
             ],
             [
              0.3333333333333333,
              "#9c179e"
             ],
             [
              0.4444444444444444,
              "#bd3786"
             ],
             [
              0.5555555555555556,
              "#d8576b"
             ],
             [
              0.6666666666666666,
              "#ed7953"
             ],
             [
              0.7777777777777778,
              "#fb9f3a"
             ],
             [
              0.8888888888888888,
              "#fdca26"
             ],
             [
              1,
              "#f0f921"
             ]
            ],
            "type": "heatmap"
           }
          ],
          "histogram": [
           {
            "marker": {
             "pattern": {
              "fillmode": "overlay",
              "size": 10,
              "solidity": 0.2
             }
            },
            "type": "histogram"
           }
          ],
          "histogram2d": [
           {
            "colorbar": {
             "outlinewidth": 0,
             "ticks": ""
            },
            "colorscale": [
             [
              0,
              "#0d0887"
             ],
             [
              0.1111111111111111,
              "#46039f"
             ],
             [
              0.2222222222222222,
              "#7201a8"
             ],
             [
              0.3333333333333333,
              "#9c179e"
             ],
             [
              0.4444444444444444,
              "#bd3786"
             ],
             [
              0.5555555555555556,
              "#d8576b"
             ],
             [
              0.6666666666666666,
              "#ed7953"
             ],
             [
              0.7777777777777778,
              "#fb9f3a"
             ],
             [
              0.8888888888888888,
              "#fdca26"
             ],
             [
              1,
              "#f0f921"
             ]
            ],
            "type": "histogram2d"
           }
          ],
          "histogram2dcontour": [
           {
            "colorbar": {
             "outlinewidth": 0,
             "ticks": ""
            },
            "colorscale": [
             [
              0,
              "#0d0887"
             ],
             [
              0.1111111111111111,
              "#46039f"
             ],
             [
              0.2222222222222222,
              "#7201a8"
             ],
             [
              0.3333333333333333,
              "#9c179e"
             ],
             [
              0.4444444444444444,
              "#bd3786"
             ],
             [
              0.5555555555555556,
              "#d8576b"
             ],
             [
              0.6666666666666666,
              "#ed7953"
             ],
             [
              0.7777777777777778,
              "#fb9f3a"
             ],
             [
              0.8888888888888888,
              "#fdca26"
             ],
             [
              1,
              "#f0f921"
             ]
            ],
            "type": "histogram2dcontour"
           }
          ],
          "mesh3d": [
           {
            "colorbar": {
             "outlinewidth": 0,
             "ticks": ""
            },
            "type": "mesh3d"
           }
          ],
          "parcoords": [
           {
            "line": {
             "colorbar": {
              "outlinewidth": 0,
              "ticks": ""
             }
            },
            "type": "parcoords"
           }
          ],
          "pie": [
           {
            "automargin": true,
            "type": "pie"
           }
          ],
          "scatter": [
           {
            "fillpattern": {
             "fillmode": "overlay",
             "size": 10,
             "solidity": 0.2
            },
            "type": "scatter"
           }
          ],
          "scatter3d": [
           {
            "line": {
             "colorbar": {
              "outlinewidth": 0,
              "ticks": ""
             }
            },
            "marker": {
             "colorbar": {
              "outlinewidth": 0,
              "ticks": ""
             }
            },
            "type": "scatter3d"
           }
          ],
          "scattercarpet": [
           {
            "marker": {
             "colorbar": {
              "outlinewidth": 0,
              "ticks": ""
             }
            },
            "type": "scattercarpet"
           }
          ],
          "scattergeo": [
           {
            "marker": {
             "colorbar": {
              "outlinewidth": 0,
              "ticks": ""
             }
            },
            "type": "scattergeo"
           }
          ],
          "scattergl": [
           {
            "marker": {
             "colorbar": {
              "outlinewidth": 0,
              "ticks": ""
             }
            },
            "type": "scattergl"
           }
          ],
          "scattermap": [
           {
            "marker": {
             "colorbar": {
              "outlinewidth": 0,
              "ticks": ""
             }
            },
            "type": "scattermap"
           }
          ],
          "scattermapbox": [
           {
            "marker": {
             "colorbar": {
              "outlinewidth": 0,
              "ticks": ""
             }
            },
            "type": "scattermapbox"
           }
          ],
          "scatterpolar": [
           {
            "marker": {
             "colorbar": {
              "outlinewidth": 0,
              "ticks": ""
             }
            },
            "type": "scatterpolar"
           }
          ],
          "scatterpolargl": [
           {
            "marker": {
             "colorbar": {
              "outlinewidth": 0,
              "ticks": ""
             }
            },
            "type": "scatterpolargl"
           }
          ],
          "scatterternary": [
           {
            "marker": {
             "colorbar": {
              "outlinewidth": 0,
              "ticks": ""
             }
            },
            "type": "scatterternary"
           }
          ],
          "surface": [
           {
            "colorbar": {
             "outlinewidth": 0,
             "ticks": ""
            },
            "colorscale": [
             [
              0,
              "#0d0887"
             ],
             [
              0.1111111111111111,
              "#46039f"
             ],
             [
              0.2222222222222222,
              "#7201a8"
             ],
             [
              0.3333333333333333,
              "#9c179e"
             ],
             [
              0.4444444444444444,
              "#bd3786"
             ],
             [
              0.5555555555555556,
              "#d8576b"
             ],
             [
              0.6666666666666666,
              "#ed7953"
             ],
             [
              0.7777777777777778,
              "#fb9f3a"
             ],
             [
              0.8888888888888888,
              "#fdca26"
             ],
             [
              1,
              "#f0f921"
             ]
            ],
            "type": "surface"
           }
          ],
          "table": [
           {
            "cells": {
             "fill": {
              "color": "#EBF0F8"
             },
             "line": {
              "color": "white"
             }
            },
            "header": {
             "fill": {
              "color": "#C8D4E3"
             },
             "line": {
              "color": "white"
             }
            },
            "type": "table"
           }
          ]
         },
         "layout": {
          "annotationdefaults": {
           "arrowcolor": "#2a3f5f",
           "arrowhead": 0,
           "arrowwidth": 1
          },
          "autotypenumbers": "strict",
          "coloraxis": {
           "colorbar": {
            "outlinewidth": 0,
            "ticks": ""
           }
          },
          "colorscale": {
           "diverging": [
            [
             0,
             "#8e0152"
            ],
            [
             0.1,
             "#c51b7d"
            ],
            [
             0.2,
             "#de77ae"
            ],
            [
             0.3,
             "#f1b6da"
            ],
            [
             0.4,
             "#fde0ef"
            ],
            [
             0.5,
             "#f7f7f7"
            ],
            [
             0.6,
             "#e6f5d0"
            ],
            [
             0.7,
             "#b8e186"
            ],
            [
             0.8,
             "#7fbc41"
            ],
            [
             0.9,
             "#4d9221"
            ],
            [
             1,
             "#276419"
            ]
           ],
           "sequential": [
            [
             0,
             "#0d0887"
            ],
            [
             0.1111111111111111,
             "#46039f"
            ],
            [
             0.2222222222222222,
             "#7201a8"
            ],
            [
             0.3333333333333333,
             "#9c179e"
            ],
            [
             0.4444444444444444,
             "#bd3786"
            ],
            [
             0.5555555555555556,
             "#d8576b"
            ],
            [
             0.6666666666666666,
             "#ed7953"
            ],
            [
             0.7777777777777778,
             "#fb9f3a"
            ],
            [
             0.8888888888888888,
             "#fdca26"
            ],
            [
             1,
             "#f0f921"
            ]
           ],
           "sequentialminus": [
            [
             0,
             "#0d0887"
            ],
            [
             0.1111111111111111,
             "#46039f"
            ],
            [
             0.2222222222222222,
             "#7201a8"
            ],
            [
             0.3333333333333333,
             "#9c179e"
            ],
            [
             0.4444444444444444,
             "#bd3786"
            ],
            [
             0.5555555555555556,
             "#d8576b"
            ],
            [
             0.6666666666666666,
             "#ed7953"
            ],
            [
             0.7777777777777778,
             "#fb9f3a"
            ],
            [
             0.8888888888888888,
             "#fdca26"
            ],
            [
             1,
             "#f0f921"
            ]
           ]
          },
          "colorway": [
           "#636efa",
           "#EF553B",
           "#00cc96",
           "#ab63fa",
           "#FFA15A",
           "#19d3f3",
           "#FF6692",
           "#B6E880",
           "#FF97FF",
           "#FECB52"
          ],
          "font": {
           "color": "#2a3f5f"
          },
          "geo": {
           "bgcolor": "white",
           "lakecolor": "white",
           "landcolor": "#E5ECF6",
           "showlakes": true,
           "showland": true,
           "subunitcolor": "white"
          },
          "hoverlabel": {
           "align": "left"
          },
          "hovermode": "closest",
          "mapbox": {
           "style": "light"
          },
          "paper_bgcolor": "white",
          "plot_bgcolor": "#E5ECF6",
          "polar": {
           "angularaxis": {
            "gridcolor": "white",
            "linecolor": "white",
            "ticks": ""
           },
           "bgcolor": "#E5ECF6",
           "radialaxis": {
            "gridcolor": "white",
            "linecolor": "white",
            "ticks": ""
           }
          },
          "scene": {
           "xaxis": {
            "backgroundcolor": "#E5ECF6",
            "gridcolor": "white",
            "gridwidth": 2,
            "linecolor": "white",
            "showbackground": true,
            "ticks": "",
            "zerolinecolor": "white"
           },
           "yaxis": {
            "backgroundcolor": "#E5ECF6",
            "gridcolor": "white",
            "gridwidth": 2,
            "linecolor": "white",
            "showbackground": true,
            "ticks": "",
            "zerolinecolor": "white"
           },
           "zaxis": {
            "backgroundcolor": "#E5ECF6",
            "gridcolor": "white",
            "gridwidth": 2,
            "linecolor": "white",
            "showbackground": true,
            "ticks": "",
            "zerolinecolor": "white"
           }
          },
          "shapedefaults": {
           "line": {
            "color": "#2a3f5f"
           }
          },
          "ternary": {
           "aaxis": {
            "gridcolor": "white",
            "linecolor": "white",
            "ticks": ""
           },
           "baxis": {
            "gridcolor": "white",
            "linecolor": "white",
            "ticks": ""
           },
           "bgcolor": "#E5ECF6",
           "caxis": {
            "gridcolor": "white",
            "linecolor": "white",
            "ticks": ""
           }
          },
          "title": {
           "x": 0.05
          },
          "xaxis": {
           "automargin": true,
           "gridcolor": "white",
           "linecolor": "white",
           "ticks": "",
           "title": {
            "standoff": 15
           },
           "zerolinecolor": "white",
           "zerolinewidth": 2
          },
          "yaxis": {
           "automargin": true,
           "gridcolor": "white",
           "linecolor": "white",
           "ticks": "",
           "title": {
            "standoff": 15
           },
           "zerolinecolor": "white",
           "zerolinewidth": 2
          }
         }
        },
        "title": {
         "text": "LDA - 1D Projection"
        },
        "xaxis": {
         "anchor": "y",
         "domain": [
          0,
          1
         ],
         "title": {
          "text": "LDA_1D"
         }
        },
        "yaxis": {
         "anchor": "x",
         "domain": [
          0,
          1
         ],
         "title": {
          "text": "count"
         }
        }
       }
      }
     },
     "metadata": {},
     "output_type": "display_data"
    }
   ],
   "source": [
    "df_proj = pd.DataFrame({\n",
    "    \"LDA_1D\": Z,\n",
    "    \"Class\": np.where(y==0, \"Class 1\", \"Class 2\")\n",
    "})\n",
    "fig = px.histogram(\n",
    "    df_proj, x=\"LDA_1D\", color=\"Class\",\n",
    "    barmode=\"overlay\", nbins=60,\n",
    "    title=\"LDA - 1D Projection\",\n",
    ")\n",
    "fig.show()\n"
   ]
  }
 ],
 "metadata": {
  "kernelspec": {
   "display_name": "pattern-recognition",
   "language": "python",
   "name": "python3"
  },
  "language_info": {
   "codemirror_mode": {
    "name": "ipython",
    "version": 3
   },
   "file_extension": ".py",
   "mimetype": "text/x-python",
   "name": "python",
   "nbconvert_exporter": "python",
   "pygments_lexer": "ipython3",
   "version": "3.10.18"
  }
 },
 "nbformat": 4,
 "nbformat_minor": 5
}
